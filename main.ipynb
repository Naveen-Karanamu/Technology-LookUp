{
 "cells": [
  {
   "cell_type": "markdown",
   "metadata": {},
   "source": [
    "# Technology Lookup"
   ]
  },
  {
   "cell_type": "markdown",
   "metadata": {},
   "source": [
    "* Importing Libraries"
   ]
  },
  {
   "cell_type": "code",
   "execution_count": 76,
   "metadata": {},
   "outputs": [],
   "source": [
    "# Numpy\n",
    "import numpy as np\n",
    "\n",
    "# Pandas\n",
    "import pandas as pd\n",
    "\n",
    "# MatPlotLib\n",
    "import matplotlib.pyplot as plt\n",
    "\n",
    "# Regex\n",
    "import regex as re\n",
    "\n",
    "# BeautifulSoup\n",
    "from bs4 import BeautifulSoup\n",
    "\n",
    "# Requests\n",
    "import requests"
   ]
  },
  {
   "cell_type": "markdown",
   "metadata": {},
   "source": [
    "* Obtaining the JSON data\n",
    "\n",
    "- Source URL: https://raw.githubusercontent.com/sahilrahman12/Technology-Lookup-Web-Application/main/technologies.json\n",
    "- Categories Source URL: https://raw.githubusercontent.com/wappalyzer/wappalyzer/master/src/categories.json"
   ]
  },
  {
   "cell_type": "code",
   "execution_count": 77,
   "metadata": {},
   "outputs": [],
   "source": [
    "tech = pd.read_json(\"https://raw.githubusercontent.com/sahilrahman12/Technology-Lookup-Web-Application/main/technologies.json\")\n",
    "cats=pd.read_json(\"https://raw.githubusercontent.com/wappalyzer/wappalyzer/master/src/categories.json\")\n"
   ]
  },
  {
   "cell_type": "code",
   "execution_count": 78,
   "metadata": {},
   "outputs": [
    {
     "data": {
      "text/html": [
       "<div>\n",
       "<style scoped>\n",
       "    .dataframe tbody tr th:only-of-type {\n",
       "        vertical-align: middle;\n",
       "    }\n",
       "\n",
       "    .dataframe tbody tr th {\n",
       "        vertical-align: top;\n",
       "    }\n",
       "\n",
       "    .dataframe thead th {\n",
       "        text-align: right;\n",
       "    }\n",
       "</style>\n",
       "<table border=\"1\" class=\"dataframe\">\n",
       "  <thead>\n",
       "    <tr style=\"text-align: right;\">\n",
       "      <th></th>\n",
       "      <th>1C-Bitrix</th>\n",
       "      <th>3dCart</th>\n",
       "      <th>@sulu/web</th>\n",
       "      <th>A-Frame</th>\n",
       "      <th>A8.net</th>\n",
       "      <th>AB Tasty</th>\n",
       "      <th>AD EBiS</th>\n",
       "      <th>ADPLAN</th>\n",
       "      <th>AMP</th>\n",
       "      <th>AMP Plugin</th>\n",
       "      <th>...</th>\n",
       "      <th>user.com</th>\n",
       "      <th>vBulletin</th>\n",
       "      <th>vibecommerce</th>\n",
       "      <th>webEdition</th>\n",
       "      <th>webpack</th>\n",
       "      <th>wisyCMS</th>\n",
       "      <th>wpBakery</th>\n",
       "      <th>wpCache</th>\n",
       "      <th>xCharts</th>\n",
       "      <th>xtCommerce</th>\n",
       "    </tr>\n",
       "  </thead>\n",
       "  <tbody>\n",
       "    <tr>\n",
       "      <th>cats</th>\n",
       "      <td>[1, 6]</td>\n",
       "      <td>[1, 6]</td>\n",
       "      <td>[59]</td>\n",
       "      <td>[25]</td>\n",
       "      <td>[71]</td>\n",
       "      <td>[74]</td>\n",
       "      <td>[10]</td>\n",
       "      <td>[10]</td>\n",
       "      <td>[12]</td>\n",
       "      <td>[1, 5]</td>\n",
       "      <td>...</td>\n",
       "      <td>[10]</td>\n",
       "      <td>[2]</td>\n",
       "      <td>[6]</td>\n",
       "      <td>[1]</td>\n",
       "      <td>[19]</td>\n",
       "      <td>[1]</td>\n",
       "      <td>[51]</td>\n",
       "      <td>[23]</td>\n",
       "      <td>[25]</td>\n",
       "      <td>[6]</td>\n",
       "    </tr>\n",
       "    <tr>\n",
       "      <th>description</th>\n",
       "      <td>1C-Bitrix is a system of web project managemen...</td>\n",
       "      <td>NaN</td>\n",
       "      <td>NaN</td>\n",
       "      <td>NaN</td>\n",
       "      <td>A8.net is an affiliate marketing network.</td>\n",
       "      <td>AB Tasty is a customer experience optimization...</td>\n",
       "      <td>NaN</td>\n",
       "      <td>NaN</td>\n",
       "      <td>AMP, originally created by Google, is an open-...</td>\n",
       "      <td>NaN</td>\n",
       "      <td>...</td>\n",
       "      <td>NaN</td>\n",
       "      <td>vBulletin is tool that is used to create and m...</td>\n",
       "      <td>NaN</td>\n",
       "      <td>NaN</td>\n",
       "      <td>Webpack is an open-source JavaScript module bu...</td>\n",
       "      <td>NaN</td>\n",
       "      <td>WPBakery is a drag and drop visual page builde...</td>\n",
       "      <td>WPCache is a static caching plugin for WordPress.</td>\n",
       "      <td>NaN</td>\n",
       "      <td>NaN</td>\n",
       "    </tr>\n",
       "    <tr>\n",
       "      <th>headers</th>\n",
       "      <td>{'Set-Cookie': 'BITRIX_', 'X-Powered-CMS': 'Bi...</td>\n",
       "      <td>{'X-Powered-By': '3DCART'}</td>\n",
       "      <td>NaN</td>\n",
       "      <td>NaN</td>\n",
       "      <td>NaN</td>\n",
       "      <td>NaN</td>\n",
       "      <td>NaN</td>\n",
       "      <td>NaN</td>\n",
       "      <td>NaN</td>\n",
       "      <td>NaN</td>\n",
       "      <td>...</td>\n",
       "      <td>NaN</td>\n",
       "      <td>NaN</td>\n",
       "      <td>NaN</td>\n",
       "      <td>NaN</td>\n",
       "      <td>NaN</td>\n",
       "      <td>NaN</td>\n",
       "      <td>NaN</td>\n",
       "      <td>{'X-Powered-By': 'wpCache(?:/([\\d.]+))?\\;versi...</td>\n",
       "      <td>NaN</td>\n",
       "      <td>NaN</td>\n",
       "    </tr>\n",
       "    <tr>\n",
       "      <th>html</th>\n",
       "      <td>(?:&lt;link[^&gt;]+components/bitrix|(?:src|href)=\"/...</td>\n",
       "      <td>NaN</td>\n",
       "      <td>NaN</td>\n",
       "      <td>&lt;a-scene[^&lt;&gt;]*&gt;</td>\n",
       "      <td>NaN</td>\n",
       "      <td>NaN</td>\n",
       "      <td>[&lt;!-- EBiS contents tag, &lt;!--EBiS tag, &lt;!-- Ta...</td>\n",
       "      <td>NaN</td>\n",
       "      <td>[&lt;html[^&gt;]* (?:amp|⚡)[^-], &lt;link rel=\"amphtml\"]</td>\n",
       "      <td>NaN</td>\n",
       "      <td>...</td>\n",
       "      <td>&lt;div[^&gt;]+/id=\"ue_widget\"</td>\n",
       "      <td>&lt;div id=\"copyright\"&gt;Powered by vBulletin</td>\n",
       "      <td>NaN</td>\n",
       "      <td>NaN</td>\n",
       "      <td>NaN</td>\n",
       "      <td>NaN</td>\n",
       "      <td>NaN</td>\n",
       "      <td>&lt;!--[^&gt;]+wpCache</td>\n",
       "      <td>&lt;link[^&gt;]* href=\"[^\"]*xcharts(?:\\.min)?\\.css</td>\n",
       "      <td>&lt;div class=\"copyright\"&gt;[^&lt;]+&lt;a[^&gt;]+&gt;xt:Commerce</td>\n",
       "    </tr>\n",
       "    <tr>\n",
       "      <th>icon</th>\n",
       "      <td>1C-Bitrix.svg</td>\n",
       "      <td>3dCart.png</td>\n",
       "      <td>Sulu.svg</td>\n",
       "      <td>A-Frame.svg</td>\n",
       "      <td>A8.net.png</td>\n",
       "      <td>AB Tasty.svg</td>\n",
       "      <td>ebis.png</td>\n",
       "      <td>ADPLAN.png</td>\n",
       "      <td>Accelerated-Mobile-Pages.svg</td>\n",
       "      <td>Accelerated-Mobile-Pages.svg</td>\n",
       "      <td>...</td>\n",
       "      <td>user.com.svg</td>\n",
       "      <td>vBulletin.png</td>\n",
       "      <td>vibecommerce.png</td>\n",
       "      <td>webEdition.png</td>\n",
       "      <td>webpack.svg</td>\n",
       "      <td>wisyCMS.svg</td>\n",
       "      <td>wpBakery.svg</td>\n",
       "      <td>wpCache.png</td>\n",
       "      <td>NaN</td>\n",
       "      <td>xtCommerce.png</td>\n",
       "    </tr>\n",
       "  </tbody>\n",
       "</table>\n",
       "<p>5 rows × 1511 columns</p>\n",
       "</div>"
      ],
      "text/plain": [
       "                                                     1C-Bitrix  \\\n",
       "cats                                                    [1, 6]   \n",
       "description  1C-Bitrix is a system of web project managemen...   \n",
       "headers      {'Set-Cookie': 'BITRIX_', 'X-Powered-CMS': 'Bi...   \n",
       "html         (?:<link[^>]+components/bitrix|(?:src|href)=\"/...   \n",
       "icon                                             1C-Bitrix.svg   \n",
       "\n",
       "                                 3dCart @sulu/web          A-Frame  \\\n",
       "cats                             [1, 6]      [59]             [25]   \n",
       "description                         NaN       NaN              NaN   \n",
       "headers      {'X-Powered-By': '3DCART'}       NaN              NaN   \n",
       "html                                NaN       NaN  <a-scene[^<>]*>   \n",
       "icon                         3dCart.png  Sulu.svg      A-Frame.svg   \n",
       "\n",
       "                                                 A8.net  \\\n",
       "cats                                               [71]   \n",
       "description   A8.net is an affiliate marketing network.   \n",
       "headers                                             NaN   \n",
       "html                                                NaN   \n",
       "icon                                         A8.net.png   \n",
       "\n",
       "                                                      AB Tasty  \\\n",
       "cats                                                      [74]   \n",
       "description  AB Tasty is a customer experience optimization...   \n",
       "headers                                                    NaN   \n",
       "html                                                       NaN   \n",
       "icon                                              AB Tasty.svg   \n",
       "\n",
       "                                                       AD EBiS      ADPLAN  \\\n",
       "cats                                                      [10]        [10]   \n",
       "description                                                NaN         NaN   \n",
       "headers                                                    NaN         NaN   \n",
       "html         [<!-- EBiS contents tag, <!--EBiS tag, <!-- Ta...         NaN   \n",
       "icon                                                  ebis.png  ADPLAN.png   \n",
       "\n",
       "                                                           AMP  \\\n",
       "cats                                                      [12]   \n",
       "description  AMP, originally created by Google, is an open-...   \n",
       "headers                                                    NaN   \n",
       "html           [<html[^>]* (?:amp|⚡)[^-], <link rel=\"amphtml\"]   \n",
       "icon                              Accelerated-Mobile-Pages.svg   \n",
       "\n",
       "                               AMP Plugin  ...                  user.com  \\\n",
       "cats                               [1, 5]  ...                      [10]   \n",
       "description                           NaN  ...                       NaN   \n",
       "headers                               NaN  ...                       NaN   \n",
       "html                                  NaN  ...  <div[^>]+/id=\"ue_widget\"   \n",
       "icon         Accelerated-Mobile-Pages.svg  ...              user.com.svg   \n",
       "\n",
       "                                                     vBulletin  \\\n",
       "cats                                                       [2]   \n",
       "description  vBulletin is tool that is used to create and m...   \n",
       "headers                                                    NaN   \n",
       "html                  <div id=\"copyright\">Powered by vBulletin   \n",
       "icon                                             vBulletin.png   \n",
       "\n",
       "                 vibecommerce      webEdition  \\\n",
       "cats                      [6]             [1]   \n",
       "description               NaN             NaN   \n",
       "headers                   NaN             NaN   \n",
       "html                      NaN             NaN   \n",
       "icon         vibecommerce.png  webEdition.png   \n",
       "\n",
       "                                                       webpack      wisyCMS  \\\n",
       "cats                                                      [19]          [1]   \n",
       "description  Webpack is an open-source JavaScript module bu...          NaN   \n",
       "headers                                                    NaN          NaN   \n",
       "html                                                       NaN          NaN   \n",
       "icon                                               webpack.svg  wisyCMS.svg   \n",
       "\n",
       "                                                      wpBakery  \\\n",
       "cats                                                      [51]   \n",
       "description  WPBakery is a drag and drop visual page builde...   \n",
       "headers                                                    NaN   \n",
       "html                                                       NaN   \n",
       "icon                                              wpBakery.svg   \n",
       "\n",
       "                                                       wpCache  \\\n",
       "cats                                                      [23]   \n",
       "description  WPCache is a static caching plugin for WordPress.   \n",
       "headers      {'X-Powered-By': 'wpCache(?:/([\\d.]+))?\\;versi...   \n",
       "html                                          <!--[^>]+wpCache   \n",
       "icon                                               wpCache.png   \n",
       "\n",
       "                                                  xCharts  \\\n",
       "cats                                                 [25]   \n",
       "description                                           NaN   \n",
       "headers                                               NaN   \n",
       "html         <link[^>]* href=\"[^\"]*xcharts(?:\\.min)?\\.css   \n",
       "icon                                                  NaN   \n",
       "\n",
       "                                                  xtCommerce  \n",
       "cats                                                     [6]  \n",
       "description                                              NaN  \n",
       "headers                                                  NaN  \n",
       "html         <div class=\"copyright\">[^<]+<a[^>]+>xt:Commerce  \n",
       "icon                                          xtCommerce.png  \n",
       "\n",
       "[5 rows x 1511 columns]"
      ]
     },
     "execution_count": 78,
     "metadata": {},
     "output_type": "execute_result"
    }
   ],
   "source": [
    "tech.head()"
   ]
  },
  {
   "cell_type": "markdown",
   "metadata": {},
   "source": [
    "* Creating the copy of the tech df and categories df"
   ]
  },
  {
   "cell_type": "code",
   "execution_count": 79,
   "metadata": {},
   "outputs": [],
   "source": [
    "tech_copy=tech.copy()\n",
    "cats_copy=cats.copy()"
   ]
  },
  {
   "cell_type": "markdown",
   "metadata": {},
   "source": [
    "* Change rows to columns and columns to rows"
   ]
  },
  {
   "cell_type": "code",
   "execution_count": 80,
   "metadata": {},
   "outputs": [],
   "source": [
    "tech=np.transpose(tech_copy)"
   ]
  },
  {
   "cell_type": "markdown",
   "metadata": {},
   "source": [
    "* Getting information about the df"
   ]
  },
  {
   "cell_type": "code",
   "execution_count": 81,
   "metadata": {},
   "outputs": [
    {
     "name": "stdout",
     "output_type": "stream",
     "text": [
      "<class 'pandas.core.frame.DataFrame'>\n",
      "Index: 1511 entries, 1C-Bitrix to xtCommerce\n",
      "Data columns (total 21 columns):\n",
      " #   Column       Non-Null Count  Dtype \n",
      "---  ------       --------------  ----- \n",
      " 0   cats         1511 non-null   object\n",
      " 1   description  776 non-null    object\n",
      " 2   headers      320 non-null    object\n",
      " 3   html         428 non-null    object\n",
      " 4   icon         1474 non-null   object\n",
      " 5   implies      482 non-null    object\n",
      " 6   scripts      679 non-null    object\n",
      " 7   website      1511 non-null   object\n",
      " 8   cookies      146 non-null    object\n",
      " 9   js           600 non-null    object\n",
      " 10  dom          60 non-null     object\n",
      " 11  pricing      213 non-null    object\n",
      " 12  saas         204 non-null    object\n",
      " 13  meta         272 non-null    object\n",
      " 14  cpe          195 non-null    object\n",
      " 15  certIssuer   5 non-null      object\n",
      " 16  url          51 non-null     object\n",
      " 17  oss          31 non-null     object\n",
      " 18  dns          23 non-null     object\n",
      " 19  excludes     21 non-null     object\n",
      " 20  css          2 non-null      object\n",
      "dtypes: object(21)\n",
      "memory usage: 292.0+ KB\n"
     ]
    }
   ],
   "source": [
    "tech.info()"
   ]
  },
  {
   "cell_type": "markdown",
   "metadata": {},
   "source": [
    "* Manipulating Row's <-> Col's for the cats df"
   ]
  },
  {
   "cell_type": "code",
   "execution_count": 82,
   "metadata": {},
   "outputs": [],
   "source": [
    "cats=cats.T"
   ]
  },
  {
   "cell_type": "code",
   "execution_count": 83,
   "metadata": {},
   "outputs": [
    {
     "name": "stdout",
     "output_type": "stream",
     "text": [
      "<class 'pandas.core.frame.DataFrame'>\n",
      "Int64Index: 103 entries, 1 to 106\n",
      "Data columns (total 3 columns):\n",
      " #   Column    Non-Null Count  Dtype \n",
      "---  ------    --------------  ----- \n",
      " 0   groups    103 non-null    object\n",
      " 1   name      103 non-null    object\n",
      " 2   priority  103 non-null    object\n",
      "dtypes: object(3)\n",
      "memory usage: 7.3+ KB\n"
     ]
    }
   ],
   "source": [
    "cats.info()"
   ]
  },
  {
   "cell_type": "code",
   "execution_count": 84,
   "metadata": {},
   "outputs": [
    {
     "data": {
      "text/html": [
       "<div>\n",
       "<style scoped>\n",
       "    .dataframe tbody tr th:only-of-type {\n",
       "        vertical-align: middle;\n",
       "    }\n",
       "\n",
       "    .dataframe tbody tr th {\n",
       "        vertical-align: top;\n",
       "    }\n",
       "\n",
       "    .dataframe thead th {\n",
       "        text-align: right;\n",
       "    }\n",
       "</style>\n",
       "<table border=\"1\" class=\"dataframe\">\n",
       "  <thead>\n",
       "    <tr style=\"text-align: right;\">\n",
       "      <th></th>\n",
       "      <th>cats</th>\n",
       "      <th>description</th>\n",
       "      <th>headers</th>\n",
       "      <th>html</th>\n",
       "      <th>icon</th>\n",
       "      <th>implies</th>\n",
       "      <th>scripts</th>\n",
       "      <th>website</th>\n",
       "      <th>cookies</th>\n",
       "      <th>js</th>\n",
       "      <th>...</th>\n",
       "      <th>pricing</th>\n",
       "      <th>saas</th>\n",
       "      <th>meta</th>\n",
       "      <th>cpe</th>\n",
       "      <th>certIssuer</th>\n",
       "      <th>url</th>\n",
       "      <th>oss</th>\n",
       "      <th>dns</th>\n",
       "      <th>excludes</th>\n",
       "      <th>css</th>\n",
       "    </tr>\n",
       "  </thead>\n",
       "  <tbody>\n",
       "    <tr>\n",
       "      <th>1C-Bitrix</th>\n",
       "      <td>[1, 6]</td>\n",
       "      <td>1C-Bitrix is a system of web project managemen...</td>\n",
       "      <td>{'Set-Cookie': 'BITRIX_', 'X-Powered-CMS': 'Bi...</td>\n",
       "      <td>(?:&lt;link[^&gt;]+components/bitrix|(?:src|href)=\"/...</td>\n",
       "      <td>1C-Bitrix.svg</td>\n",
       "      <td>PHP</td>\n",
       "      <td>1c-bitrix</td>\n",
       "      <td>http://www.1c-bitrix.ru</td>\n",
       "      <td>NaN</td>\n",
       "      <td>NaN</td>\n",
       "      <td>...</td>\n",
       "      <td>NaN</td>\n",
       "      <td>NaN</td>\n",
       "      <td>NaN</td>\n",
       "      <td>NaN</td>\n",
       "      <td>NaN</td>\n",
       "      <td>NaN</td>\n",
       "      <td>NaN</td>\n",
       "      <td>NaN</td>\n",
       "      <td>NaN</td>\n",
       "      <td>NaN</td>\n",
       "    </tr>\n",
       "    <tr>\n",
       "      <th>3dCart</th>\n",
       "      <td>[1, 6]</td>\n",
       "      <td>NaN</td>\n",
       "      <td>{'X-Powered-By': '3DCART'}</td>\n",
       "      <td>NaN</td>\n",
       "      <td>3dCart.png</td>\n",
       "      <td>NaN</td>\n",
       "      <td>(?:twlh(?:track)?\\.asp|3d_upsell\\.js)</td>\n",
       "      <td>http://www.3dcart.com</td>\n",
       "      <td>{'3dvisit': ''}</td>\n",
       "      <td>NaN</td>\n",
       "      <td>...</td>\n",
       "      <td>NaN</td>\n",
       "      <td>NaN</td>\n",
       "      <td>NaN</td>\n",
       "      <td>NaN</td>\n",
       "      <td>NaN</td>\n",
       "      <td>NaN</td>\n",
       "      <td>NaN</td>\n",
       "      <td>NaN</td>\n",
       "      <td>NaN</td>\n",
       "      <td>NaN</td>\n",
       "    </tr>\n",
       "    <tr>\n",
       "      <th>@sulu/web</th>\n",
       "      <td>[59]</td>\n",
       "      <td>NaN</td>\n",
       "      <td>NaN</td>\n",
       "      <td>NaN</td>\n",
       "      <td>Sulu.svg</td>\n",
       "      <td>NaN</td>\n",
       "      <td>NaN</td>\n",
       "      <td>https://github.com/sulu/web-js</td>\n",
       "      <td>NaN</td>\n",
       "      <td>{'web.startComponents': ''}</td>\n",
       "      <td>...</td>\n",
       "      <td>NaN</td>\n",
       "      <td>NaN</td>\n",
       "      <td>NaN</td>\n",
       "      <td>NaN</td>\n",
       "      <td>NaN</td>\n",
       "      <td>NaN</td>\n",
       "      <td>NaN</td>\n",
       "      <td>NaN</td>\n",
       "      <td>NaN</td>\n",
       "      <td>NaN</td>\n",
       "    </tr>\n",
       "    <tr>\n",
       "      <th>A-Frame</th>\n",
       "      <td>[25]</td>\n",
       "      <td>NaN</td>\n",
       "      <td>NaN</td>\n",
       "      <td>&lt;a-scene[^&lt;&gt;]*&gt;</td>\n",
       "      <td>A-Frame.svg</td>\n",
       "      <td>three.js</td>\n",
       "      <td>/?([\\d.]+)?/aframe(?:\\.min)?\\.js\\;version:\\1</td>\n",
       "      <td>https://aframe.io</td>\n",
       "      <td>NaN</td>\n",
       "      <td>{'AFRAME.version': '^(.+)$\\;version:\\1'}</td>\n",
       "      <td>...</td>\n",
       "      <td>NaN</td>\n",
       "      <td>NaN</td>\n",
       "      <td>NaN</td>\n",
       "      <td>NaN</td>\n",
       "      <td>NaN</td>\n",
       "      <td>NaN</td>\n",
       "      <td>NaN</td>\n",
       "      <td>NaN</td>\n",
       "      <td>NaN</td>\n",
       "      <td>NaN</td>\n",
       "    </tr>\n",
       "    <tr>\n",
       "      <th>A8.net</th>\n",
       "      <td>[71]</td>\n",
       "      <td>A8.net is an affiliate marketing network.</td>\n",
       "      <td>NaN</td>\n",
       "      <td>NaN</td>\n",
       "      <td>A8.net.png</td>\n",
       "      <td>NaN</td>\n",
       "      <td>statics\\.a8\\.net</td>\n",
       "      <td>https://www.a8.net</td>\n",
       "      <td>NaN</td>\n",
       "      <td>{'A8salesCookieRepository': '', 'a8sales': '',...</td>\n",
       "      <td>...</td>\n",
       "      <td>NaN</td>\n",
       "      <td>NaN</td>\n",
       "      <td>NaN</td>\n",
       "      <td>NaN</td>\n",
       "      <td>NaN</td>\n",
       "      <td>NaN</td>\n",
       "      <td>NaN</td>\n",
       "      <td>NaN</td>\n",
       "      <td>NaN</td>\n",
       "      <td>NaN</td>\n",
       "    </tr>\n",
       "  </tbody>\n",
       "</table>\n",
       "<p>5 rows × 21 columns</p>\n",
       "</div>"
      ],
      "text/plain": [
       "             cats                                        description  \\\n",
       "1C-Bitrix  [1, 6]  1C-Bitrix is a system of web project managemen...   \n",
       "3dCart     [1, 6]                                                NaN   \n",
       "@sulu/web    [59]                                                NaN   \n",
       "A-Frame      [25]                                                NaN   \n",
       "A8.net       [71]          A8.net is an affiliate marketing network.   \n",
       "\n",
       "                                                     headers  \\\n",
       "1C-Bitrix  {'Set-Cookie': 'BITRIX_', 'X-Powered-CMS': 'Bi...   \n",
       "3dCart                            {'X-Powered-By': '3DCART'}   \n",
       "@sulu/web                                                NaN   \n",
       "A-Frame                                                  NaN   \n",
       "A8.net                                                   NaN   \n",
       "\n",
       "                                                        html           icon  \\\n",
       "1C-Bitrix  (?:<link[^>]+components/bitrix|(?:src|href)=\"/...  1C-Bitrix.svg   \n",
       "3dCart                                                   NaN     3dCart.png   \n",
       "@sulu/web                                                NaN       Sulu.svg   \n",
       "A-Frame                                      <a-scene[^<>]*>    A-Frame.svg   \n",
       "A8.net                                                   NaN     A8.net.png   \n",
       "\n",
       "            implies                                       scripts  \\\n",
       "1C-Bitrix       PHP                                     1c-bitrix   \n",
       "3dCart          NaN         (?:twlh(?:track)?\\.asp|3d_upsell\\.js)   \n",
       "@sulu/web       NaN                                           NaN   \n",
       "A-Frame    three.js  /?([\\d.]+)?/aframe(?:\\.min)?\\.js\\;version:\\1   \n",
       "A8.net          NaN                              statics\\.a8\\.net   \n",
       "\n",
       "                                  website          cookies  \\\n",
       "1C-Bitrix         http://www.1c-bitrix.ru              NaN   \n",
       "3dCart              http://www.3dcart.com  {'3dvisit': ''}   \n",
       "@sulu/web  https://github.com/sulu/web-js              NaN   \n",
       "A-Frame                 https://aframe.io              NaN   \n",
       "A8.net                 https://www.a8.net              NaN   \n",
       "\n",
       "                                                          js  ... pricing  \\\n",
       "1C-Bitrix                                                NaN  ...     NaN   \n",
       "3dCart                                                   NaN  ...     NaN   \n",
       "@sulu/web                        {'web.startComponents': ''}  ...     NaN   \n",
       "A-Frame             {'AFRAME.version': '^(.+)$\\;version:\\1'}  ...     NaN   \n",
       "A8.net     {'A8salesCookieRepository': '', 'a8sales': '',...  ...     NaN   \n",
       "\n",
       "          saas meta  cpe certIssuer  url  oss  dns excludes  css  \n",
       "1C-Bitrix  NaN  NaN  NaN        NaN  NaN  NaN  NaN      NaN  NaN  \n",
       "3dCart     NaN  NaN  NaN        NaN  NaN  NaN  NaN      NaN  NaN  \n",
       "@sulu/web  NaN  NaN  NaN        NaN  NaN  NaN  NaN      NaN  NaN  \n",
       "A-Frame    NaN  NaN  NaN        NaN  NaN  NaN  NaN      NaN  NaN  \n",
       "A8.net     NaN  NaN  NaN        NaN  NaN  NaN  NaN      NaN  NaN  \n",
       "\n",
       "[5 rows x 21 columns]"
      ]
     },
     "execution_count": 84,
     "metadata": {},
     "output_type": "execute_result"
    }
   ],
   "source": [
    "tech.head()"
   ]
  },
  {
   "cell_type": "code",
   "execution_count": 85,
   "metadata": {},
   "outputs": [
    {
     "data": {
      "text/html": [
       "<div>\n",
       "<style scoped>\n",
       "    .dataframe tbody tr th:only-of-type {\n",
       "        vertical-align: middle;\n",
       "    }\n",
       "\n",
       "    .dataframe tbody tr th {\n",
       "        vertical-align: top;\n",
       "    }\n",
       "\n",
       "    .dataframe thead th {\n",
       "        text-align: right;\n",
       "    }\n",
       "</style>\n",
       "<table border=\"1\" class=\"dataframe\">\n",
       "  <thead>\n",
       "    <tr style=\"text-align: right;\">\n",
       "      <th></th>\n",
       "      <th>groups</th>\n",
       "      <th>name</th>\n",
       "      <th>priority</th>\n",
       "    </tr>\n",
       "  </thead>\n",
       "  <tbody>\n",
       "    <tr>\n",
       "      <th>1</th>\n",
       "      <td>[3]</td>\n",
       "      <td>CMS</td>\n",
       "      <td>1</td>\n",
       "    </tr>\n",
       "    <tr>\n",
       "      <th>2</th>\n",
       "      <td>[3, 4, 18]</td>\n",
       "      <td>Message boards</td>\n",
       "      <td>1</td>\n",
       "    </tr>\n",
       "    <tr>\n",
       "      <th>3</th>\n",
       "      <td>[5]</td>\n",
       "      <td>Database managers</td>\n",
       "      <td>2</td>\n",
       "    </tr>\n",
       "    <tr>\n",
       "      <th>4</th>\n",
       "      <td>[3]</td>\n",
       "      <td>Documentation</td>\n",
       "      <td>2</td>\n",
       "    </tr>\n",
       "    <tr>\n",
       "      <th>5</th>\n",
       "      <td>[6]</td>\n",
       "      <td>Widgets</td>\n",
       "      <td>9</td>\n",
       "    </tr>\n",
       "  </tbody>\n",
       "</table>\n",
       "</div>"
      ],
      "text/plain": [
       "       groups               name priority\n",
       "1         [3]                CMS        1\n",
       "2  [3, 4, 18]     Message boards        1\n",
       "3         [5]  Database managers        2\n",
       "4         [3]      Documentation        2\n",
       "5         [6]            Widgets        9"
      ]
     },
     "execution_count": 85,
     "metadata": {},
     "output_type": "execute_result"
    }
   ],
   "source": [
    "cats.head()"
   ]
  },
  {
   "cell_type": "markdown",
   "metadata": {},
   "source": [
    "* Cleaning techs' cats column"
   ]
  },
  {
   "cell_type": "code",
   "execution_count": 86,
   "metadata": {},
   "outputs": [],
   "source": [
    "tech_copy_2=tech.copy()\n",
    "cats_copy_2=cats.copy()"
   ]
  },
  {
   "cell_type": "code",
   "execution_count": 87,
   "metadata": {},
   "outputs": [],
   "source": [
    "# cats_copy_2[cats_copy_2.iloc[1]]['name']"
   ]
  },
  {
   "cell_type": "code",
   "execution_count": 88,
   "metadata": {},
   "outputs": [
    {
     "data": {
      "text/plain": [
       "'JavaScript graphics'"
      ]
     },
     "execution_count": 88,
     "metadata": {},
     "output_type": "execute_result"
    }
   ],
   "source": [
    "cats_copy_2.loc[25]['name']"
   ]
  },
  {
   "cell_type": "markdown",
   "metadata": {},
   "source": [
    "* Merging the cats df and tech df using the indexes"
   ]
  },
  {
   "cell_type": "code",
   "execution_count": 89,
   "metadata": {},
   "outputs": [],
   "source": [
    "for i in tech_copy_2.cats:\n",
    "    for j in range(len(i)):\n",
    "        k=i[j]\n",
    "        i[j]=cats_copy_2.loc[k]['name']"
   ]
  },
  {
   "cell_type": "code",
   "execution_count": 90,
   "metadata": {},
   "outputs": [
    {
     "data": {
      "text/html": [
       "<div>\n",
       "<style scoped>\n",
       "    .dataframe tbody tr th:only-of-type {\n",
       "        vertical-align: middle;\n",
       "    }\n",
       "\n",
       "    .dataframe tbody tr th {\n",
       "        vertical-align: top;\n",
       "    }\n",
       "\n",
       "    .dataframe thead th {\n",
       "        text-align: right;\n",
       "    }\n",
       "</style>\n",
       "<table border=\"1\" class=\"dataframe\">\n",
       "  <thead>\n",
       "    <tr style=\"text-align: right;\">\n",
       "      <th></th>\n",
       "      <th>cats</th>\n",
       "      <th>description</th>\n",
       "      <th>headers</th>\n",
       "      <th>html</th>\n",
       "      <th>icon</th>\n",
       "      <th>implies</th>\n",
       "      <th>scripts</th>\n",
       "      <th>website</th>\n",
       "      <th>cookies</th>\n",
       "      <th>js</th>\n",
       "      <th>...</th>\n",
       "      <th>pricing</th>\n",
       "      <th>saas</th>\n",
       "      <th>meta</th>\n",
       "      <th>cpe</th>\n",
       "      <th>certIssuer</th>\n",
       "      <th>url</th>\n",
       "      <th>oss</th>\n",
       "      <th>dns</th>\n",
       "      <th>excludes</th>\n",
       "      <th>css</th>\n",
       "    </tr>\n",
       "  </thead>\n",
       "  <tbody>\n",
       "    <tr>\n",
       "      <th>1C-Bitrix</th>\n",
       "      <td>[CMS, Ecommerce]</td>\n",
       "      <td>1C-Bitrix is a system of web project managemen...</td>\n",
       "      <td>{'Set-Cookie': 'BITRIX_', 'X-Powered-CMS': 'Bi...</td>\n",
       "      <td>(?:&lt;link[^&gt;]+components/bitrix|(?:src|href)=\"/...</td>\n",
       "      <td>1C-Bitrix.svg</td>\n",
       "      <td>PHP</td>\n",
       "      <td>1c-bitrix</td>\n",
       "      <td>http://www.1c-bitrix.ru</td>\n",
       "      <td>NaN</td>\n",
       "      <td>NaN</td>\n",
       "      <td>...</td>\n",
       "      <td>NaN</td>\n",
       "      <td>NaN</td>\n",
       "      <td>NaN</td>\n",
       "      <td>NaN</td>\n",
       "      <td>NaN</td>\n",
       "      <td>NaN</td>\n",
       "      <td>NaN</td>\n",
       "      <td>NaN</td>\n",
       "      <td>NaN</td>\n",
       "      <td>NaN</td>\n",
       "    </tr>\n",
       "    <tr>\n",
       "      <th>3dCart</th>\n",
       "      <td>[CMS, Ecommerce]</td>\n",
       "      <td>NaN</td>\n",
       "      <td>{'X-Powered-By': '3DCART'}</td>\n",
       "      <td>NaN</td>\n",
       "      <td>3dCart.png</td>\n",
       "      <td>NaN</td>\n",
       "      <td>(?:twlh(?:track)?\\.asp|3d_upsell\\.js)</td>\n",
       "      <td>http://www.3dcart.com</td>\n",
       "      <td>{'3dvisit': ''}</td>\n",
       "      <td>NaN</td>\n",
       "      <td>...</td>\n",
       "      <td>NaN</td>\n",
       "      <td>NaN</td>\n",
       "      <td>NaN</td>\n",
       "      <td>NaN</td>\n",
       "      <td>NaN</td>\n",
       "      <td>NaN</td>\n",
       "      <td>NaN</td>\n",
       "      <td>NaN</td>\n",
       "      <td>NaN</td>\n",
       "      <td>NaN</td>\n",
       "    </tr>\n",
       "    <tr>\n",
       "      <th>@sulu/web</th>\n",
       "      <td>[JavaScript libraries]</td>\n",
       "      <td>NaN</td>\n",
       "      <td>NaN</td>\n",
       "      <td>NaN</td>\n",
       "      <td>Sulu.svg</td>\n",
       "      <td>NaN</td>\n",
       "      <td>NaN</td>\n",
       "      <td>https://github.com/sulu/web-js</td>\n",
       "      <td>NaN</td>\n",
       "      <td>{'web.startComponents': ''}</td>\n",
       "      <td>...</td>\n",
       "      <td>NaN</td>\n",
       "      <td>NaN</td>\n",
       "      <td>NaN</td>\n",
       "      <td>NaN</td>\n",
       "      <td>NaN</td>\n",
       "      <td>NaN</td>\n",
       "      <td>NaN</td>\n",
       "      <td>NaN</td>\n",
       "      <td>NaN</td>\n",
       "      <td>NaN</td>\n",
       "    </tr>\n",
       "    <tr>\n",
       "      <th>A-Frame</th>\n",
       "      <td>[JavaScript graphics]</td>\n",
       "      <td>NaN</td>\n",
       "      <td>NaN</td>\n",
       "      <td>&lt;a-scene[^&lt;&gt;]*&gt;</td>\n",
       "      <td>A-Frame.svg</td>\n",
       "      <td>three.js</td>\n",
       "      <td>/?([\\d.]+)?/aframe(?:\\.min)?\\.js\\;version:\\1</td>\n",
       "      <td>https://aframe.io</td>\n",
       "      <td>NaN</td>\n",
       "      <td>{'AFRAME.version': '^(.+)$\\;version:\\1'}</td>\n",
       "      <td>...</td>\n",
       "      <td>NaN</td>\n",
       "      <td>NaN</td>\n",
       "      <td>NaN</td>\n",
       "      <td>NaN</td>\n",
       "      <td>NaN</td>\n",
       "      <td>NaN</td>\n",
       "      <td>NaN</td>\n",
       "      <td>NaN</td>\n",
       "      <td>NaN</td>\n",
       "      <td>NaN</td>\n",
       "    </tr>\n",
       "    <tr>\n",
       "      <th>A8.net</th>\n",
       "      <td>[Affiliate programs]</td>\n",
       "      <td>A8.net is an affiliate marketing network.</td>\n",
       "      <td>NaN</td>\n",
       "      <td>NaN</td>\n",
       "      <td>A8.net.png</td>\n",
       "      <td>NaN</td>\n",
       "      <td>statics\\.a8\\.net</td>\n",
       "      <td>https://www.a8.net</td>\n",
       "      <td>NaN</td>\n",
       "      <td>{'A8salesCookieRepository': '', 'a8sales': '',...</td>\n",
       "      <td>...</td>\n",
       "      <td>NaN</td>\n",
       "      <td>NaN</td>\n",
       "      <td>NaN</td>\n",
       "      <td>NaN</td>\n",
       "      <td>NaN</td>\n",
       "      <td>NaN</td>\n",
       "      <td>NaN</td>\n",
       "      <td>NaN</td>\n",
       "      <td>NaN</td>\n",
       "      <td>NaN</td>\n",
       "    </tr>\n",
       "  </tbody>\n",
       "</table>\n",
       "<p>5 rows × 21 columns</p>\n",
       "</div>"
      ],
      "text/plain": [
       "                             cats  \\\n",
       "1C-Bitrix        [CMS, Ecommerce]   \n",
       "3dCart           [CMS, Ecommerce]   \n",
       "@sulu/web  [JavaScript libraries]   \n",
       "A-Frame     [JavaScript graphics]   \n",
       "A8.net       [Affiliate programs]   \n",
       "\n",
       "                                                 description  \\\n",
       "1C-Bitrix  1C-Bitrix is a system of web project managemen...   \n",
       "3dCart                                                   NaN   \n",
       "@sulu/web                                                NaN   \n",
       "A-Frame                                                  NaN   \n",
       "A8.net             A8.net is an affiliate marketing network.   \n",
       "\n",
       "                                                     headers  \\\n",
       "1C-Bitrix  {'Set-Cookie': 'BITRIX_', 'X-Powered-CMS': 'Bi...   \n",
       "3dCart                            {'X-Powered-By': '3DCART'}   \n",
       "@sulu/web                                                NaN   \n",
       "A-Frame                                                  NaN   \n",
       "A8.net                                                   NaN   \n",
       "\n",
       "                                                        html           icon  \\\n",
       "1C-Bitrix  (?:<link[^>]+components/bitrix|(?:src|href)=\"/...  1C-Bitrix.svg   \n",
       "3dCart                                                   NaN     3dCart.png   \n",
       "@sulu/web                                                NaN       Sulu.svg   \n",
       "A-Frame                                      <a-scene[^<>]*>    A-Frame.svg   \n",
       "A8.net                                                   NaN     A8.net.png   \n",
       "\n",
       "            implies                                       scripts  \\\n",
       "1C-Bitrix       PHP                                     1c-bitrix   \n",
       "3dCart          NaN         (?:twlh(?:track)?\\.asp|3d_upsell\\.js)   \n",
       "@sulu/web       NaN                                           NaN   \n",
       "A-Frame    three.js  /?([\\d.]+)?/aframe(?:\\.min)?\\.js\\;version:\\1   \n",
       "A8.net          NaN                              statics\\.a8\\.net   \n",
       "\n",
       "                                  website          cookies  \\\n",
       "1C-Bitrix         http://www.1c-bitrix.ru              NaN   \n",
       "3dCart              http://www.3dcart.com  {'3dvisit': ''}   \n",
       "@sulu/web  https://github.com/sulu/web-js              NaN   \n",
       "A-Frame                 https://aframe.io              NaN   \n",
       "A8.net                 https://www.a8.net              NaN   \n",
       "\n",
       "                                                          js  ... pricing  \\\n",
       "1C-Bitrix                                                NaN  ...     NaN   \n",
       "3dCart                                                   NaN  ...     NaN   \n",
       "@sulu/web                        {'web.startComponents': ''}  ...     NaN   \n",
       "A-Frame             {'AFRAME.version': '^(.+)$\\;version:\\1'}  ...     NaN   \n",
       "A8.net     {'A8salesCookieRepository': '', 'a8sales': '',...  ...     NaN   \n",
       "\n",
       "          saas meta  cpe certIssuer  url  oss  dns excludes  css  \n",
       "1C-Bitrix  NaN  NaN  NaN        NaN  NaN  NaN  NaN      NaN  NaN  \n",
       "3dCart     NaN  NaN  NaN        NaN  NaN  NaN  NaN      NaN  NaN  \n",
       "@sulu/web  NaN  NaN  NaN        NaN  NaN  NaN  NaN      NaN  NaN  \n",
       "A-Frame    NaN  NaN  NaN        NaN  NaN  NaN  NaN      NaN  NaN  \n",
       "A8.net     NaN  NaN  NaN        NaN  NaN  NaN  NaN      NaN  NaN  \n",
       "\n",
       "[5 rows x 21 columns]"
      ]
     },
     "execution_count": 90,
     "metadata": {},
     "output_type": "execute_result"
    }
   ],
   "source": [
    "tech_copy_2.head()"
   ]
  },
  {
   "cell_type": "markdown",
   "metadata": {},
   "source": [
    "* NaN values using description"
   ]
  },
  {
   "cell_type": "code",
   "execution_count": 91,
   "metadata": {},
   "outputs": [
    {
     "data": {
      "text/plain": [
       "735"
      ]
     },
     "execution_count": 91,
     "metadata": {},
     "output_type": "execute_result"
    }
   ],
   "source": [
    "tech.description.isna().sum()"
   ]
  },
  {
   "cell_type": "code",
   "execution_count": 92,
   "metadata": {},
   "outputs": [
    {
     "data": {
      "text/plain": [
       "320"
      ]
     },
     "execution_count": 92,
     "metadata": {},
     "output_type": "execute_result"
    }
   ],
   "source": [
    "tech.headers.notna().sum()"
   ]
  },
  {
   "cell_type": "markdown",
   "metadata": {},
   "source": [
    "* Headers\n"
   ]
  },
  {
   "cell_type": "code",
   "execution_count": 93,
   "metadata": {},
   "outputs": [
    {
     "data": {
      "text/plain": [
       "nan"
      ]
     },
     "execution_count": 93,
     "metadata": {},
     "output_type": "execute_result"
    }
   ],
   "source": [
    "tech.headers[2]"
   ]
  },
  {
   "cell_type": "markdown",
   "metadata": {},
   "source": [
    "* Getting all the headers"
   ]
  },
  {
   "cell_type": "code",
   "execution_count": 94,
   "metadata": {},
   "outputs": [],
   "source": [
    "uni_heads=[]\n",
    "for i in tech.headers:\n",
    "    try:\n",
    "        uni_heads.extend(i.keys())\n",
    "    except:\n",
    "        pass"
   ]
  },
  {
   "cell_type": "markdown",
   "metadata": {},
   "source": [
    "* Getting all the unique headers"
   ]
  },
  {
   "cell_type": "code",
   "execution_count": null,
   "metadata": {},
   "outputs": [],
   "source": [
    "uni_heads=set(uni_heads)\n",
    "uni_heads"
   ]
  },
  {
   "cell_type": "markdown",
   "metadata": {},
   "source": [
    "* Cleaning the url"
   ]
  },
  {
   "cell_type": "code",
   "execution_count": 96,
   "metadata": {},
   "outputs": [],
   "source": [
    "# # url=input()\n",
    "# url=\"https://www.youtube.com/watch?v=3Xb1_Cr1b5E&list=PLk6BCQDEsbCW2v79cLe5Xvi4ccHi4a34M&index=1&ab_channel=Mu6ic2.5\"\n",
    "# clean_url=re.findall(\"https:\\/\\/\\w+\\.\\w+\\.com|http:\\/\\/.*\\.\\w+\",url)\n",
    "# clean_url=re.sub(\"www\\.|'|^\\[|\\]\",\"\",str(clean_url))\n",
    "\n",
    "# if(clean_url.find('https')==-1):\n",
    "#     clean_url=clean_url.replace(\"http\",'https')\n",
    "# clean_url\n",
    "    "
   ]
  },
  {
   "cell_type": "code",
   "execution_count": 100,
   "metadata": {},
   "outputs": [
    {
     "data": {
      "text/plain": [
       "'https://en.wikipedia.org'"
      ]
     },
     "execution_count": 100,
     "metadata": {},
     "output_type": "execute_result"
    }
   ],
   "source": [
    "url=input()\n",
    "clean_url=\"https://\"+re.sub(\"^\\w+:\\/{2}|w{3}.|\\/.*\",\"\",str(url))\n",
    "clean_url\n",
    "    "
   ]
  },
  {
   "cell_type": "markdown",
   "metadata": {},
   "source": [
    "* Web Scrapping"
   ]
  },
  {
   "cell_type": "code",
   "execution_count": 103,
   "metadata": {},
   "outputs": [],
   "source": [
    "req=requests.get(clean_url)\n",
    "soup=BeautifulSoup(req.content)"
   ]
  },
  {
   "cell_type": "code",
   "execution_count": 112,
   "metadata": {},
   "outputs": [
    {
     "name": "stdout",
     "output_type": "stream",
     "text": [
      "{'X-Pingback': '/xmlrpc\\\\.php$', 'link': 'rel=\"https://api\\\\.w\\\\.org/\"'} [<link href=\"/w/load.php?lang=en&amp;modules=ext.uls.interlanguage%7Cext.visualEditor.desktopArticleTarget.noscript%7Cext.wikimediaBadges%7Cskins.vector.styles.legacy&amp;only=styles&amp;skin=vector\" rel=\"stylesheet\"/>, <link href=\"/w/load.php?lang=en&amp;modules=site.styles&amp;only=styles&amp;skin=vector\" rel=\"stylesheet\"/>, <link href=\"//upload.wikimedia.org\" rel=\"preconnect\"/>, <link href=\"//en.m.wikipedia.org/wiki/Main_Page\" media=\"only screen and (max-width: 720px)\" rel=\"alternate\"/>, <link href=\"/w/api.php?action=featuredfeed&amp;feed=potd&amp;feedformat=atom\" rel=\"alternate\" title=\"Wikipedia picture of the day feed\" type=\"application/atom+xml\"/>, <link href=\"/w/api.php?action=featuredfeed&amp;feed=featured&amp;feedformat=atom\" rel=\"alternate\" title=\"Wikipedia featured articles feed\" type=\"application/atom+xml\"/>, <link href=\"/w/api.php?action=featuredfeed&amp;feed=onthisday&amp;feedformat=atom\" rel=\"alternate\" title='Wikipedia \"On this day...\" feed' type=\"application/atom+xml\"/>, <link href=\"/static/apple-touch/wikipedia.png\" rel=\"apple-touch-icon\"/>, <link href=\"/static/favicon/wikipedia.ico\" rel=\"shortcut icon\"/>, <link href=\"/w/opensearch_desc.php\" rel=\"search\" title=\"Wikipedia (en)\" type=\"application/opensearchdescription+xml\"/>, <link href=\"//en.wikipedia.org/w/api.php?action=rsd\" rel=\"EditURI\" type=\"application/rsd+xml\"/>, <link href=\"https://creativecommons.org/licenses/by-sa/3.0/\" rel=\"license\"/>, <link href=\"https://en.wikipedia.org/wiki/Main_Page\" rel=\"canonical\"/>, <link href=\"//meta.wikimedia.org\" rel=\"dns-prefetch\"/>, <link href=\"//login.wikimedia.org\" rel=\"dns-prefetch\"/>]\n"
     ]
    }
   ],
   "source": [
    "for i in tech.headers:\n",
    "    if soup.findAll(i):\n",
    "        print(i,soup.findAll(i))"
   ]
  },
  {
   "cell_type": "code",
   "execution_count": 125,
   "metadata": {},
   "outputs": [
    {
     "data": {
      "text/plain": [
       "pandas.core.indexes.base.Index"
      ]
     },
     "execution_count": 125,
     "metadata": {},
     "output_type": "execute_result"
    }
   ],
   "source": [
    "type(tech.columns)"
   ]
  },
  {
   "cell_type": "code",
   "execution_count": null,
   "metadata": {},
   "outputs": [],
   "source": [
    "col=[]\n",
    "for i in tech.columns:\n",
    "    col.append(i)\n",
    "    \n",
    "for i in col:\n",
    "    for j in tech[i]:\n",
    "        soup.findAll(j)"
   ]
  }
 ],
 "metadata": {
  "interpreter": {
   "hash": "cb4a6ece8dc9cf1f5b1565d05f1a189d257ecb16f7f86b5ca0cc8563c18481dc"
  },
  "kernelspec": {
   "display_name": "Python 3.9.7 ('base')",
   "language": "python",
   "name": "python3"
  },
  "language_info": {
   "codemirror_mode": {
    "name": "ipython",
    "version": 3
   },
   "file_extension": ".py",
   "mimetype": "text/x-python",
   "name": "python",
   "nbconvert_exporter": "python",
   "pygments_lexer": "ipython3",
   "version": "3.9.7"
  },
  "orig_nbformat": 4
 },
 "nbformat": 4,
 "nbformat_minor": 2
}
